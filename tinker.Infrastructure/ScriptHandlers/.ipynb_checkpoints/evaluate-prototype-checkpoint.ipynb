{
 "cells": [
  {
   "cell_type": "code",
   "execution_count": 1,
   "id": "b41886cc",
   "metadata": {},
   "outputs": [],
   "source": [
    "import tensorflow as tf\n",
    "import argparse\n",
    "import os\n",
    "import numpy as np\n",
    "from PIL import Image"
   ]
  },
  {
   "cell_type": "code",
   "execution_count": 4,
   "id": "f0f75b87",
   "metadata": {},
   "outputs": [
    {
     "data": {
      "text/plain": [
       "\"\\nparser = argparse.ArgumentParser(descri\\n                                 ption='Load a TensorFlow model and evaluate.')\\nparser.add_argument('--model_path', type=str, required=True,\\n                    help='Path to the TensorFlow .h5 model file')\\nparser.add_argument('--input', type=str, nargs='+', required=True,\\n                    help='Input to the model, separated by spaces')\\n\""
      ]
     },
     "execution_count": 4,
     "metadata": {},
     "output_type": "execute_result"
    }
   ],
   "source": [
    "# Define command-line arguments\n",
    "\"\"\"\n",
    "parser = argparse.ArgumentParser(descri\n",
    "                                 ption='Load a TensorFlow model and evaluate.')\n",
    "parser.add_argument('--model_path', type=str, required=True,\n",
    "                    help='Path to the TensorFlow .h5 model file')\n",
    "parser.add_argument('--input', type=str, nargs='+', required=True,\n",
    "                    help='Input to the model, separated by spaces')\n",
    "\"\"\""
   ]
  },
  {
   "cell_type": "code",
   "execution_count": 5,
   "id": "2938fb1d",
   "metadata": {},
   "outputs": [
    {
     "data": {
      "text/plain": [
       "'\\nargs = parser.parse_args()\\nprint(args.input[0])\\n'"
      ]
     },
     "execution_count": 5,
     "metadata": {},
     "output_type": "execute_result"
    }
   ],
   "source": [
    "# Parse command-line arguments\n",
    "\"\"\"\n",
    "args = parser.parse_args()\n",
    "print(args.input[0])\n",
    "\"\"\""
   ]
  },
  {
   "cell_type": "code",
   "execution_count": 16,
   "id": "632a4423",
   "metadata": {},
   "outputs": [],
   "source": [
    "model_relative_path = \"../AiModelfiles/e8d6a60d-352d-401e-aec3-b58120516a27/e8d6a60d-352d-401e-aec3-b58120516a27.h5\"\n",
    "input_relative_path = \"../AiModelfiles/e8d6a60d-352d-401e-aec3-b58120516a27/InputFiles/Text/e8d6a60d-352d-401e-aec3-b58120516a27.jpeg\""
   ]
  },
  {
   "cell_type": "code",
   "execution_count": 17,
   "id": "9c97cd7f",
   "metadata": {},
   "outputs": [],
   "source": [
    "# Construct full path to model file using current working directory and relative path\n",
    "model_path = os.path.join(os.getcwd(), model_relative_path)\n",
    "\n",
    "# Construct full path to image file using current working directory and relative path\n",
    "# Getting the image path: image_path = os.path.abspath(os.path.join(os.getcwd(), args.input[0]))\n",
    "image_path = os.path.join(os.getcwd(), input_relative_path)"
   ]
  },
  {
   "cell_type": "code",
   "execution_count": 18,
   "id": "c8f578a5",
   "metadata": {},
   "outputs": [
    {
     "name": "stdout",
     "output_type": "stream",
     "text": [
      "WARNING:tensorflow:Error in loading the saved optimizer state. As a result, your model is starting with a freshly initialized optimizer.\n"
     ]
    }
   ],
   "source": [
    "# Load the TensorFlow model from .h5 file\n",
    "model = tf.keras.models.load_model(model_path)"
   ]
  },
  {
   "cell_type": "code",
   "execution_count": 19,
   "id": "5a4a5b75",
   "metadata": {},
   "outputs": [],
   "source": [
    "# Load image using PIL\n",
    "image = Image.open(image_path)"
   ]
  },
  {
   "cell_type": "code",
   "execution_count": null,
   "id": "41c16d4e",
   "metadata": {},
   "outputs": [],
   "source": []
  }
 ],
 "metadata": {
  "kernelspec": {
   "display_name": "Python 3 (ipykernel)",
   "language": "python",
   "name": "python3"
  },
  "language_info": {
   "codemirror_mode": {
    "name": "ipython",
    "version": 3
   },
   "file_extension": ".py",
   "mimetype": "text/x-python",
   "name": "python",
   "nbconvert_exporter": "python",
   "pygments_lexer": "ipython3",
   "version": "3.9.13"
  }
 },
 "nbformat": 4,
 "nbformat_minor": 5
}
