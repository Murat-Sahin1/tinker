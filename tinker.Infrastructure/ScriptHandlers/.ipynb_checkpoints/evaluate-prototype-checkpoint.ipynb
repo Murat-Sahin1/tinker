{
 "cells": [
  {
   "cell_type": "code",
   "execution_count": 1,
   "id": "b41886cc",
   "metadata": {},
   "outputs": [],
   "source": [
    "import tensorflow as tf\n",
    "import argparse\n",
    "import os\n",
    "import numpy as np\n",
    "from PIL import Image"
   ]
  },
  {
   "cell_type": "code",
   "execution_count": 2,
   "id": "f0f75b87",
   "metadata": {},
   "outputs": [
    {
     "data": {
      "text/plain": [
       "\"\\nparser = argparse.ArgumentParser(descri\\n                                 ption='Load a TensorFlow model and evaluate.')\\nparser.add_argument('--model_path', type=str, required=True,\\n                    help='Path to the TensorFlow .h5 model file')\\nparser.add_argument('--input', type=str, nargs='+', required=True,\\n                    help='Input to the model, separated by spaces')\\n\""
      ]
     },
     "execution_count": 2,
     "metadata": {},
     "output_type": "execute_result"
    }
   ],
   "source": [
    "# Define command-line arguments\n",
    "\"\"\"\n",
    "parser = argparse.ArgumentParser(descri\n",
    "                                 ption='Load a TensorFlow model and evaluate.')\n",
    "parser.add_argument('--model_path', type=str, required=True,\n",
    "                    help='Path to the TensorFlow .h5 model file')\n",
    "parser.add_argument('--input', type=str, nargs='+', required=True,\n",
    "                    help='Input to the model, separated by spaces')\n",
    "\"\"\""
   ]
  },
  {
   "cell_type": "code",
   "execution_count": 3,
   "id": "2938fb1d",
   "metadata": {},
   "outputs": [
    {
     "data": {
      "text/plain": [
       "'\\nargs = parser.parse_args()\\nprint(args.input[0])\\n'"
      ]
     },
     "execution_count": 3,
     "metadata": {},
     "output_type": "execute_result"
    }
   ],
   "source": [
    "# Parse command-line arguments\n",
    "\"\"\"\n",
    "args = parser.parse_args()\n",
    "print(args.input[0])\n",
    "\"\"\""
   ]
  },
  {
   "cell_type": "code",
   "execution_count": 3,
   "id": "632a4423",
   "metadata": {},
   "outputs": [],
   "source": [
    "model_relative_path = \"../AiModelfiles/9949f73c-921a-41c7-9665-e1eba160a4e1/9949f73c-921a-41c7-9665-e1eba160a4e1.h5\"\n",
    "input_relative_path = \"../AiModelfiles/9949f73c-921a-41c7-9665-e1eba160a4e1/InputFiles/Image\"\n",
    "csv_relative_path = \"../AiModelfiles/9949f73c-921a-41c7-9665-e1eba160a4e1/yValues\""
   ]
  },
  {
   "cell_type": "code",
   "execution_count": 24,
   "id": "9c97cd7f",
   "metadata": {},
   "outputs": [
    {
     "name": "stdout",
     "output_type": "stream",
     "text": [
      "C:\\Users\\Voul\\tinker\\tinker\\tinker.Infrastructure\\ScriptHandlers\\../AiModelfiles/9949f73c-921a-41c7-9665-e1eba160a4e1/InputFiles/Image\n"
     ]
    }
   ],
   "source": [
    "# Construct full path to model file using current working directory and relative path\n",
    "model_path = os.path.join(os.getcwd(), model_relative_path)\n",
    "\n",
    "# Construct full path to image file using current working directory and relative path\n",
    "# Getting the image path: image_path = os.path.abspath(os.path.join(os.getcwd(), args.input[0]))\n",
    "image_path = os.path.join(os.getcwd(), input_relative_path)\n",
    "csv_path = os.path.join(os.getcwd(), csv_relative_path)\n",
    "print(image_path)"
   ]
  },
  {
   "cell_type": "code",
   "execution_count": 32,
   "id": "c8f578a5",
   "metadata": {},
   "outputs": [
    {
     "name": "stdout",
     "output_type": "stream",
     "text": [
      "WARNING:tensorflow:Error in loading the saved optimizer state. As a result, your model is starting with a freshly initialized optimizer.\n"
     ]
    }
   ],
   "source": [
    "# Load the TensorFlow model from .h5 file\n",
    "model = tf.keras.models.load_model(model_path)"
   ]
  },
  {
   "cell_type": "code",
   "execution_count": 36,
   "id": "41c16d4e",
   "metadata": {},
   "outputs": [
    {
     "name": "stdout",
     "output_type": "stream",
     "text": [
      "C:\\Users\\Voul\\tinker\\tinker\\tinker.Infrastructure\\ScriptHandlers\\../AiModelfiles/9949f73c-921a-41c7-9665-e1eba160a4e1/InputFiles/Image\\0.jpeg\n",
      "1/1 [==============================] - 0s 50ms/step\n",
      "C:\\Users\\Voul\\tinker\\tinker\\tinker.Infrastructure\\ScriptHandlers\\../AiModelfiles/9949f73c-921a-41c7-9665-e1eba160a4e1/InputFiles/Image\\1.jpeg\n",
      "1/1 [==============================] - 0s 51ms/step\n",
      "C:\\Users\\Voul\\tinker\\tinker\\tinker.Infrastructure\\ScriptHandlers\\../AiModelfiles/9949f73c-921a-41c7-9665-e1eba160a4e1/InputFiles/Image\\2.jpeg\n",
      "1/1 [==============================] - 0s 70ms/step\n",
      "C:\\Users\\Voul\\tinker\\tinker\\tinker.Infrastructure\\ScriptHandlers\\../AiModelfiles/9949f73c-921a-41c7-9665-e1eba160a4e1/InputFiles/Image\\3.jpeg\n",
      "1/1 [==============================] - 0s 53ms/step\n",
      "C:\\Users\\Voul\\tinker\\tinker\\tinker.Infrastructure\\ScriptHandlers\\../AiModelfiles/9949f73c-921a-41c7-9665-e1eba160a4e1/InputFiles/Image\\4.jpeg\n",
      "1/1 [==============================] - 0s 54ms/step\n",
      "All predictions: [[2.4403999e-08 3.6011770e-01 6.3982409e-01 5.8141639e-05]]\n"
     ]
    }
   ],
   "source": [
    "predictions = \"\"\n",
    "for filename in os.listdir(image_path):\n",
    "    if filename.endswith('.jpg') or filename.endswith('.png') or filename.endswith('.jpeg'):\n",
    "        temp_path = os.path.join(image_path, filename)\n",
    "        print(temp_path)\n",
    "        image = tf.keras.preprocessing.image.load_img(temp_path, target_size=(224, 224))\n",
    "        image = tf.keras.preprocessing.image.img_to_array(image)\n",
    "        image = tf.keras.applications.mobilenet_v2.preprocess_input(image)\n",
    "        image = tf.expand_dims(image, axis=0)\n",
    "        \n",
    "        predictions = model.predict(image)\n",
    "        \n",
    "print('All predictions:', predictions)        "
   ]
  },
  {
   "cell_type": "code",
   "execution_count": 31,
   "id": "a5634b04",
   "metadata": {},
   "outputs": [
    {
     "name": "stdout",
     "output_type": "stream",
     "text": [
      "All predictions: [[2.4403999e-08 3.6011770e-01 6.3982409e-01 5.8141639e-05]]\n"
     ]
    }
   ],
   "source": [
    "import csv\n",
    "\n",
    "# Path to the CSV file\n",
    "csv_file_path = 'path/to/your/file.csv'\n",
    "\n",
    "# Open the CSV file\n",
    "with open(csv_file_path, 'r') as file:\n",
    "    # Create a CSV reader\n",
    "    reader = csv.reader(file)\n",
    "\n",
    "    # Iterate over the rows in the CSV file\n",
    "    for row in reader:\n",
    "        # Access values from each row\n",
    "        for value in row:\n",
    "            print(value)"
   ]
  },
  {
   "cell_type": "code",
   "execution_count": null,
   "id": "f62848e1",
   "metadata": {},
   "outputs": [],
   "source": []
  }
 ],
 "metadata": {
  "kernelspec": {
   "display_name": "Python 3 (ipykernel)",
   "language": "python",
   "name": "python3"
  },
  "language_info": {
   "codemirror_mode": {
    "name": "ipython",
    "version": 3
   },
   "file_extension": ".py",
   "mimetype": "text/x-python",
   "name": "python",
   "nbconvert_exporter": "python",
   "pygments_lexer": "ipython3",
   "version": "3.9.13"
  }
 },
 "nbformat": 4,
 "nbformat_minor": 5
}
