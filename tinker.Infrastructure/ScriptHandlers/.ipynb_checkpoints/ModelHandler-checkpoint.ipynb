{
 "cells": [
  {
   "cell_type": "code",
   "execution_count": 1,
   "id": "15bdeb9a",
   "metadata": {},
   "outputs": [
    {
     "name": "stderr",
     "output_type": "stream",
     "text": [
      "usage: ipykernel_launcher.py [-h] --model_path MODEL_PATH --input INPUT [INPUT ...]\n",
      "ipykernel_launcher.py: error: the following arguments are required: --model_path, --input\n"
     ]
    },
    {
     "ename": "SystemExit",
     "evalue": "2",
     "output_type": "error",
     "traceback": [
      "An exception has occurred, use %tb to see the full traceback.\n",
      "\u001b[1;31mSystemExit\u001b[0m\u001b[1;31m:\u001b[0m 2\n"
     ]
    },
    {
     "name": "stderr",
     "output_type": "stream",
     "text": [
      "C:\\ProgramData\\Anaconda3\\lib\\site-packages\\IPython\\core\\interactiveshell.py:3465: UserWarning: To exit: use 'exit', 'quit', or Ctrl-D.\n",
      "  warn(\"To exit: use 'exit', 'quit', or Ctrl-D.\", stacklevel=1)\n"
     ]
    }
   ],
   "source": [
    "import tensorflow as tf\n",
    "import argparse\n",
    "\n",
    "# Define command-line arguments\n",
    "parser = argparse.ArgumentParser(description='Load a TensorFlow model and make a prediction.')\n",
    "parser.add_argument('--model_path', type=str, required=True,\n",
    "                    help='Path to the TensorFlow .h5 model file')\n",
    "parser.add_argument('--input', type=str, nargs='+', required=True,\n",
    "                    help='Input to the model, separated by spaces')\n",
    "\n",
    "# Parse command-line arguments\n",
    "args = parser.parse_args()\n",
    "\n",
    "# Load the TensorFlow model from .h5 file\n",
    "model = tf.keras.models.load_model(args.model_path)\n",
    "\n",
    "# Convert input to a NumPy array\n",
    "input_data = tf.convert_to_tensor([args.input], dtype=tf.float32)\n",
    "\n",
    "# Make a prediction using the loaded model and input data\n",
    "output = model(input_data)\n",
    "\n",
    "# Print the prediction output\n",
    "print(output.numpy())"
   ]
  },
  {
   "cell_type": "code",
   "execution_count": null,
   "id": "d286a10a",
   "metadata": {},
   "outputs": [],
   "source": []
  }
 ],
 "metadata": {
  "kernelspec": {
   "display_name": "Python 3 (ipykernel)",
   "language": "python",
   "name": "python3"
  },
  "language_info": {
   "codemirror_mode": {
    "name": "ipython",
    "version": 3
   },
   "file_extension": ".py",
   "mimetype": "text/x-python",
   "name": "python",
   "nbconvert_exporter": "python",
   "pygments_lexer": "ipython3",
   "version": "3.9.13"
  }
 },
 "nbformat": 4,
 "nbformat_minor": 5
}
